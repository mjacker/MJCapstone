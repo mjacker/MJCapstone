{
 "cells": [
  {
   "cell_type": "markdown",
   "metadata": {},
   "source": [
    "## Data Exploratory - Columns"
   ]
  },
  {
   "cell_type": "code",
   "execution_count": null,
   "metadata": {},
   "outputs": [],
   "source": [
    "import pandas as pd\n",
    "import numpy as np\n",
    "import matplotlib.pyplot as plt"
   ]
  },
  {
   "cell_type": "markdown",
   "metadata": {},
   "source": [
    "### Loading processed dataset to a dataframe"
   ]
  },
  {
   "cell_type": "code",
   "execution_count": null,
   "metadata": {},
   "outputs": [],
   "source": [
    "df_dataset = pd.read_csv(\"processed_dataset.csv\")\n",
    "df_dataset"
   ]
  },
  {
   "cell_type": "code",
   "execution_count": null,
   "metadata": {},
   "outputs": [],
   "source": [
    "df_dataset.describe()"
   ]
  },
  {
   "cell_type": "code",
   "execution_count": null,
   "metadata": {},
   "outputs": [],
   "source": [
    "df_dataset.info()"
   ]
  },
  {
   "cell_type": "code",
   "execution_count": null,
   "metadata": {},
   "outputs": [],
   "source": [
    "# no parece tan necesario aca, al volver a leer el archivo csv, parece que detecta bien el tipo de dato.\n",
    "for position, type in enumerate(df_dataset.dtypes):\n",
    "    # print(type)\n",
    "    # print(position)\n",
    "    # df_dataset[df_dataset.columns[position]].astype(type)\n",
    "    df_dataset = df_dataset.astype({df_dataset.columns[position]:type})\n",
    "df_dataset"
   ]
  },
  {
   "cell_type": "code",
   "execution_count": null,
   "metadata": {},
   "outputs": [],
   "source": [
    "df_dataset.columns"
   ]
  },
  {
   "cell_type": "code",
   "execution_count": null,
   "metadata": {},
   "outputs": [],
   "source": [
    "# plt.figure()\n",
    "# plt.\n",
    "# df_dataset.hist()\n",
    "df_dataset[df_dataset.columns[0]].hist()\n",
    "# df_dataset[df_dataset.columns[1]].hist()\n"
   ]
  },
  {
   "cell_type": "code",
   "execution_count": null,
   "metadata": {},
   "outputs": [],
   "source": [
    "print(df_dataset.columns[0])\n",
    "df_dataset[df_dataset.columns[0]].describe()"
   ]
  },
  {
   "cell_type": "code",
   "execution_count": null,
   "metadata": {},
   "outputs": [],
   "source": [
    "df_dataset[df_dataset.columns[0]].unique()\n"
   ]
  },
  {
   "cell_type": "markdown",
   "metadata": {},
   "source": [
    "### Ploting columns"
   ]
  },
  {
   "cell_type": "code",
   "execution_count": null,
   "metadata": {},
   "outputs": [],
   "source": [
    "# plt.pyplot.plot(df_dataset[df_dataset.columns[1]], df_dataset[df_dataset.columns[-1]])\n",
    "print(np.sort(df_dataset[df_dataset.columns[7]]))\n",
    "pd.DataFrame(np.sort(df_dataset[df_dataset.columns[6]])).plot(kind='hist')\n",
    "# df_dataset[df_dataset.columns[1]].unique()\n",
    "# df_dataset[df_dataset.columns[1]].hist()\n",
    "# df_dataset[df_dataset.columns[1]].count()\n",
    "# df_dataset[df_dataset.columns[1]]\n"
   ]
  }
 ],
 "metadata": {
  "kernelspec": {
   "display_name": ".venv",
   "language": "python",
   "name": "python3"
  },
  "language_info": {
   "codemirror_mode": {
    "name": "ipython",
    "version": 3
   },
   "file_extension": ".py",
   "mimetype": "text/x-python",
   "name": "python",
   "nbconvert_exporter": "python",
   "pygments_lexer": "ipython3",
   "version": "3.9.13"
  }
 },
 "nbformat": 4,
 "nbformat_minor": 2
}
