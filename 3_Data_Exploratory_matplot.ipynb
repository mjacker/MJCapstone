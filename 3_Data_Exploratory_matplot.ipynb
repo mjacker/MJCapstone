{
 "cells": [
  {
   "cell_type": "markdown",
   "metadata": {},
   "source": [
    "## Data Exploratory - Columns"
   ]
  },
  {
   "cell_type": "code",
   "execution_count": null,
   "metadata": {},
   "outputs": [],
   "source": [
    "import pandas as pd\n",
    "import numpy as np\n",
    "import matplotlib.pyplot as plt"
   ]
  },
  {
   "cell_type": "markdown",
   "metadata": {},
   "source": [
    "### Loading processed dataset to a dataframe"
   ]
  },
  {
   "cell_type": "code",
   "execution_count": null,
   "metadata": {},
   "outputs": [],
   "source": [
    "df_dataset = pd.read_csv(\"processed_dataset_in_2.csv\")\n",
    "df_dataset"
   ]
  },
  {
   "cell_type": "code",
   "execution_count": null,
   "metadata": {},
   "outputs": [],
   "source": [
    "df_dataset.describe()"
   ]
  },
  {
   "cell_type": "code",
   "execution_count": null,
   "metadata": {},
   "outputs": [],
   "source": [
    "df_dataset.info()"
   ]
  },
  {
   "cell_type": "code",
   "execution_count": null,
   "metadata": {},
   "outputs": [],
   "source": [
    "df_dataset.columns"
   ]
  },
  {
   "cell_type": "code",
   "execution_count": null,
   "metadata": {},
   "outputs": [],
   "source": [
    "# plt.figure()\n",
    "# plt.\n",
    "# df_dataset.hist()\n",
    "df_dataset[df_dataset.columns[0]].hist()\n",
    "# df_dataset[df_dataset.columns[1]].hist()\n"
   ]
  },
  {
   "cell_type": "code",
   "execution_count": null,
   "metadata": {},
   "outputs": [],
   "source": [
    "print(df_dataset.columns[0])\n",
    "df_dataset[df_dataset.columns[0]].describe()"
   ]
  },
  {
   "cell_type": "markdown",
   "metadata": {},
   "source": [
    "## Pearson correlation between the input features."
   ]
  },
  {
   "cell_type": "code",
   "execution_count": null,
   "metadata": {},
   "outputs": [],
   "source": [
    "### TEMP\n",
    "df_dataset.head()"
   ]
  },
  {
   "cell_type": "code",
   "execution_count": null,
   "metadata": {},
   "outputs": [],
   "source": [
    "import seaborn as sns\n",
    "corr_matrix = df_dataset.corr()\n",
    "plt.rcParams['figure.figsize'] = (16, 9)\n",
    "g = sns.heatmap(corr_matrix, \n",
    "                cmap=\"coolwarm\", #colos\n",
    "                annot=False, # add a value to each cell \n",
    "                fmt='.1g',\n",
    "                vmin = -1, \n",
    "                vmax = 1)\n",
    "g.set_xticklabels(g.get_xticklabels(), verticalalignment='top', horizontalalignment='right', rotation=30);\n",
    "plt.savefig('corr_heatmap1.png', dpi=800, bbox_inches='tight')"
   ]
  },
  {
   "cell_type": "markdown",
   "metadata": {},
   "source": [
    "### dropping not valuable columns"
   ]
  },
  {
   "cell_type": "code",
   "execution_count": null,
   "metadata": {},
   "outputs": [],
   "source": [
    "columns_to_drop = []\n",
    "\n",
    "for x, e in enumerate(df_dataset.columns[:-1]):\n",
    "    if (len(df_dataset[df_dataset.columns[x]].unique()) == 1):\n",
    "        print(x, e, df_dataset[df_dataset.columns[x]].unique())\n",
    "        columns_to_drop.append(x)\n",
    "\n",
    "# columns_to_drop\n",
    "# for x in columns_to_drop:\n",
    "#     df_dataset.drop(columns=[df_dataset.columns[x]], axis=1, inplace = True)\n",
    "\n",
    "print(\"Columns to drop: \", columns_to_drop)\n",
    "print(\"Dataframe shape: \", df_dataset.shape)\n",
    "\n",
    "reversed_order = list(reversed(columns_to_drop))\n",
    "print(reversed_order)\n",
    "for x in reversed_order:\n",
    "    df_dataset.drop(columns=[df_dataset.columns[x]], inplace = True)\n",
    "\n",
    "df_dataset.shape\n",
    "    "
   ]
  },
  {
   "cell_type": "markdown",
   "metadata": {},
   "source": [
    "##### Checking pearson correlation after drops"
   ]
  },
  {
   "cell_type": "code",
   "execution_count": null,
   "metadata": {},
   "outputs": [],
   "source": [
    "corr_matrix = df_dataset.corr()\n",
    "plt.rcParams['figure.figsize'] = (16, 9)\n",
    "g = sns.heatmap(corr_matrix, \n",
    "                cmap=\"coolwarm\", #colos\n",
    "                annot=False, # add a value to each cell \n",
    "                fmt='.2f',\n",
    "                vmin = -1, \n",
    "                vmax = 1)\n",
    "g.set_xticklabels(g.get_xticklabels(), verticalalignment='top', horizontalalignment='right', rotation=30);\n",
    "plt.savefig('corr_heatmap2.png', dpi=800, bbox_inches='tight')"
   ]
  },
  {
   "cell_type": "code",
   "execution_count": null,
   "metadata": {},
   "outputs": [],
   "source": [
    "# df_dataset.columns"
   ]
  },
  {
   "cell_type": "code",
   "execution_count": null,
   "metadata": {},
   "outputs": [],
   "source": [
    "# df_dataset.replace([np.inf, -np.inf], np.nan, inplace=True)\n",
    "# df_dataset.dropna(inplace=True)\n",
    "\n",
    "# print(np.any(np.isnan(df_dataset)))\n",
    "# print(np.any(np.isinf(df_dataset)))\n",
    "\n",
    "# # si trato de usar where infinite, normalmente trae malos resultados onda overflow de memoria\n",
    "# df_dataset.isin([np.inf, -np.inf]).values.sum()"
   ]
  },
  {
   "cell_type": "code",
   "execution_count": null,
   "metadata": {},
   "outputs": [],
   "source": [
    "\n",
    "\n",
    "# y = np.array(df_dataset.pop('Label'))\n",
    "# X = np.array(df_dataset)"
   ]
  },
  {
   "cell_type": "code",
   "execution_count": null,
   "metadata": {},
   "outputs": [],
   "source": [
    "# from sklearn.preprocessing import MinMaxScaler\n",
    "# X_scaler = MinMaxScaler().fit(X)\n",
    "# pd.DataFrame(X_scaler.transform(X))\n",
    "# X = np.array(X_scaler.transform(X))\n",
    "# X\n",
    "# df_dataset = pd.DataFrame(X)"
   ]
  },
  {
   "cell_type": "code",
   "execution_count": null,
   "metadata": {},
   "outputs": [],
   "source": [
    "df_dataset.to_csv(\"processed_dataset_in_3.csv\", index=False)"
   ]
  },
  {
   "cell_type": "code",
   "execution_count": null,
   "metadata": {},
   "outputs": [],
   "source": []
  }
 ],
 "metadata": {
  "kernelspec": {
   "display_name": ".venv",
   "language": "python",
   "name": "python3"
  },
  "language_info": {
   "codemirror_mode": {
    "name": "ipython",
    "version": 3
   },
   "file_extension": ".py",
   "mimetype": "text/x-python",
   "name": "python",
   "nbconvert_exporter": "python",
   "pygments_lexer": "ipython3",
   "version": "3.9.13"
  }
 },
 "nbformat": 4,
 "nbformat_minor": 2
}
