{
 "cells": [
  {
   "cell_type": "markdown",
   "metadata": {},
   "source": [
    "--- \n",
    "\n",
    "# 2. Dataset Preparation\n",
    "---\n",
    "For this Capstone, are eelected to be procesed two files from #[CSE-CIC-IDS2018](https://www.unb.ca/cic/datasets/ids-2018.html) those are \n",
    "- `Friday-16-02-2018_TrafficForML_CICFlowMeter.csv`\n",
    "This file contains most of Dos attacks\n",
    "\n",
    "- `Friday-02-03-2018_TrafficForML_CICFlowMeter.csv`\n",
    "This file contains most of botnet computers.\n",
    "\n",
    "since these two files contains a large malicius packages, it will help help to balance the dataset which will be uses to train the model.\n"
   ]
  },
  {
   "cell_type": "code",
   "execution_count": 15,
   "metadata": {},
   "outputs": [
    {
     "name": "stdout",
     "output_type": "stream",
     "text": [
      "CPU times: total: 0 ns\n",
      "Wall time: 0 ns\n"
     ]
    }
   ],
   "source": [
    "%%time\n",
    "import os\n",
    "import pandas as pd\n",
    "import matplotlib\n",
    "import numpy as np\n",
    "import matplotlib.pyplot as plt\n",
    "import seaborn as sns"
   ]
  },
  {
   "cell_type": "markdown",
   "metadata": {},
   "source": [
    "Loading path to dataset files."
   ]
  },
  {
   "cell_type": "code",
   "execution_count": 16,
   "metadata": {},
   "outputs": [
    {
     "data": {
      "text/plain": [
       "['./datasets/Friday-02-03-2018_TrafficForML_CICFlowMeter.csv',\n",
       " './datasets/Friday-16-02-2018_TrafficForML_CICFlowMeter.csv',\n",
       " './datasets/processed_dataset.csv']"
      ]
     },
     "execution_count": 16,
     "metadata": {},
     "output_type": "execute_result"
    }
   ],
   "source": [
    "DATASET_FILES_PATH = []\n",
    "for path, _, file in (os.walk(\"./datasets/\")):\n",
    "    for eachFile in file:\n",
    "        DATASET_FILES_PATH.append(path + eachFile)\n",
    "DATASET_FILES_PATH"
   ]
  },
  {
   "cell_type": "markdown",
   "metadata": {},
   "source": [
    "## Data Ingestion / versioning\n",
    "### Concatenating datasetsLoading datasets to PandaData Frame"
   ]
  },
  {
   "cell_type": "code",
   "execution_count": 17,
   "metadata": {},
   "outputs": [
    {
     "name": "stderr",
     "output_type": "stream",
     "text": [
      "<timed exec>:6: DtypeWarning: Columns (0,1,3,4,5,6,7,8,9,10,11,12,13,14,15,16,17,18,19,20,21,22,23,24,25,26,27,28,29,30,31,32,33,34,35,36,37,38,39,40,41,42,43,44,45,46,47,48,49,50,51,52,53,54,55,56,57,58,59,60,61,62,63,64,65,66,67,68,69,70,71,72,73,74,75,76,77,78) have mixed types. Specify dtype option on import or set low_memory=False.\n"
     ]
    },
    {
     "name": "stdout",
     "output_type": "stream",
     "text": [
      "(2097149, 80)\n",
      "CPU times: total: 31.2 s\n",
      "Wall time: 33.2 s\n"
     ]
    }
   ],
   "source": [
    "%%time\n",
    "\n",
    "# df_dataset = pd.read_csv(DATASET_FILES_PATH[0])\n",
    "# print(df_dataset.shape)\n",
    "\n",
    "# For Google Colab, due to memory capacity, only can handle one day dataset.\n",
    "df_friday1 = pd.read_csv(DATASET_FILES_PATH[0])\n",
    "df_friday2 = pd.read_csv(DATASET_FILES_PATH[1])\n",
    "# # For Google Colab, due to memory capacity, only can handle one day dataset.\n",
    "df_dataset = pd.concat([df_friday1, df_friday2], axis=0, ignore_index=True)\n",
    "# # Because two datasets was concatenated, then need to delete the row which cointain the second dataframe title\n",
    "df_dataset.drop(df_dataset.loc[df_dataset[\"Label\"] == \"Label\"].index, inplace=True)\n",
    "print(df_dataset.shape)"
   ]
  },
  {
   "cell_type": "code",
   "execution_count": 18,
   "metadata": {},
   "outputs": [],
   "source": [
    "################### TEMP\n",
    "\n",
    "# # para agilizar y progar\n",
    "\n",
    "# # Drop rows from index 30 to 100\n",
    "# df_dataset = df_dataset.drop(index=range(200000, 1048575))\n",
    "# print(df_dataset.shape)\n",
    "\n",
    "\n",
    "##TEMMPPP"
   ]
  },
  {
   "cell_type": "markdown",
   "metadata": {},
   "source": [
    "## Data Cleaning\n",
    "- ### Drop unrelated columns\n",
    "Since Port, protocol and the timestand are not related to the label with those selectec machine learning, those will be droped"
   ]
  },
  {
   "cell_type": "code",
   "execution_count": 19,
   "metadata": {},
   "outputs": [],
   "source": [
    "df_dataset.drop(columns=['Dst Port', 'Protocol', 'Timestamp'], inplace=True)\n",
    "\n"
   ]
  },
  {
   "cell_type": "markdown",
   "metadata": {},
   "source": [
    "- ### Droping rows with infinite or null values"
   ]
  },
  {
   "cell_type": "code",
   "execution_count": 20,
   "metadata": {},
   "outputs": [
    {
     "name": "stdout",
     "output_type": "stream",
     "text": [
      "Shape before deleting rows:  (2097149, 77)\n",
      "Shape after deteling rows: (2094591, 77)\n"
     ]
    }
   ],
   "source": [
    "print(\"Shape before deleting rows: \", df_dataset.shape)\n",
    "df_dataset[df_dataset.isnull().any(axis=1)]\n",
    "df_dataset.replace([np.inf, -np.inf], np.nan)\n",
    "df_dataset.dropna(inplace=True)\n",
    "print(\"Shape after deteling rows:\", df_dataset.shape)"
   ]
  },
  {
   "cell_type": "markdown",
   "metadata": {},
   "source": [
    "## Encoding\n",
    "### Check Label labels"
   ]
  },
  {
   "cell_type": "code",
   "execution_count": 21,
   "metadata": {},
   "outputs": [
    {
     "name": "stdout",
     "output_type": "stream",
     "text": [
      "['Benign' 'Bot' 'DoS attacks-SlowHTTPTest' 'DoS attacks-Hulk']\n",
      "(2094591, 77)\n"
     ]
    }
   ],
   "source": [
    "print(df_dataset['Label'].unique())\n",
    "print(df_dataset.shape)"
   ]
  },
  {
   "cell_type": "markdown",
   "metadata": {},
   "source": [
    "##### Changing Labels names \n",
    "To unify the labels, those malicius packages will be renamend as ones, and the normal as zeros.\n",
    "- 0 - normal package\n",
    "- 1 - malicius package"
   ]
  },
  {
   "cell_type": "code",
   "execution_count": 22,
   "metadata": {},
   "outputs": [
    {
     "name": "stdout",
     "output_type": "stream",
     "text": [
      "CPU times: total: 2min 49s\n",
      "Wall time: 2min 53s\n"
     ]
    },
    {
     "data": {
      "text/html": [
       "<div>\n",
       "<style scoped>\n",
       "    .dataframe tbody tr th:only-of-type {\n",
       "        vertical-align: middle;\n",
       "    }\n",
       "\n",
       "    .dataframe tbody tr th {\n",
       "        vertical-align: top;\n",
       "    }\n",
       "\n",
       "    .dataframe thead th {\n",
       "        text-align: right;\n",
       "    }\n",
       "</style>\n",
       "<table border=\"1\" class=\"dataframe\">\n",
       "  <thead>\n",
       "    <tr style=\"text-align: right;\">\n",
       "      <th></th>\n",
       "      <th>Flow Duration</th>\n",
       "      <th>Tot Fwd Pkts</th>\n",
       "      <th>Tot Bwd Pkts</th>\n",
       "      <th>TotLen Fwd Pkts</th>\n",
       "      <th>TotLen Bwd Pkts</th>\n",
       "      <th>Fwd Pkt Len Max</th>\n",
       "      <th>Fwd Pkt Len Min</th>\n",
       "      <th>Fwd Pkt Len Mean</th>\n",
       "      <th>Fwd Pkt Len Std</th>\n",
       "      <th>Bwd Pkt Len Max</th>\n",
       "      <th>...</th>\n",
       "      <th>Fwd Seg Size Min</th>\n",
       "      <th>Active Mean</th>\n",
       "      <th>Active Std</th>\n",
       "      <th>Active Max</th>\n",
       "      <th>Active Min</th>\n",
       "      <th>Idle Mean</th>\n",
       "      <th>Idle Std</th>\n",
       "      <th>Idle Max</th>\n",
       "      <th>Idle Min</th>\n",
       "      <th>Label</th>\n",
       "    </tr>\n",
       "  </thead>\n",
       "  <tbody>\n",
       "    <tr>\n",
       "      <th>0</th>\n",
       "      <td>141385.0</td>\n",
       "      <td>9.0</td>\n",
       "      <td>7.0</td>\n",
       "      <td>553.0</td>\n",
       "      <td>3773.0</td>\n",
       "      <td>202.0</td>\n",
       "      <td>0.0</td>\n",
       "      <td>61.444444</td>\n",
       "      <td>87.534438</td>\n",
       "      <td>1460.0</td>\n",
       "      <td>...</td>\n",
       "      <td>20.0</td>\n",
       "      <td>0.0</td>\n",
       "      <td>0.0</td>\n",
       "      <td>0.0</td>\n",
       "      <td>0.0</td>\n",
       "      <td>0.0</td>\n",
       "      <td>0.0</td>\n",
       "      <td>0.0</td>\n",
       "      <td>0.0</td>\n",
       "      <td>0.0</td>\n",
       "    </tr>\n",
       "    <tr>\n",
       "      <th>1</th>\n",
       "      <td>281.0</td>\n",
       "      <td>2.0</td>\n",
       "      <td>1.0</td>\n",
       "      <td>38.0</td>\n",
       "      <td>0.0</td>\n",
       "      <td>38.0</td>\n",
       "      <td>0.0</td>\n",
       "      <td>19.000000</td>\n",
       "      <td>26.870058</td>\n",
       "      <td>0.0</td>\n",
       "      <td>...</td>\n",
       "      <td>20.0</td>\n",
       "      <td>0.0</td>\n",
       "      <td>0.0</td>\n",
       "      <td>0.0</td>\n",
       "      <td>0.0</td>\n",
       "      <td>0.0</td>\n",
       "      <td>0.0</td>\n",
       "      <td>0.0</td>\n",
       "      <td>0.0</td>\n",
       "      <td>0.0</td>\n",
       "    </tr>\n",
       "    <tr>\n",
       "      <th>2</th>\n",
       "      <td>279824.0</td>\n",
       "      <td>11.0</td>\n",
       "      <td>15.0</td>\n",
       "      <td>1086.0</td>\n",
       "      <td>10527.0</td>\n",
       "      <td>385.0</td>\n",
       "      <td>0.0</td>\n",
       "      <td>98.727273</td>\n",
       "      <td>129.392497</td>\n",
       "      <td>1460.0</td>\n",
       "      <td>...</td>\n",
       "      <td>20.0</td>\n",
       "      <td>0.0</td>\n",
       "      <td>0.0</td>\n",
       "      <td>0.0</td>\n",
       "      <td>0.0</td>\n",
       "      <td>0.0</td>\n",
       "      <td>0.0</td>\n",
       "      <td>0.0</td>\n",
       "      <td>0.0</td>\n",
       "      <td>0.0</td>\n",
       "    </tr>\n",
       "    <tr>\n",
       "      <th>3</th>\n",
       "      <td>132.0</td>\n",
       "      <td>2.0</td>\n",
       "      <td>0.0</td>\n",
       "      <td>0.0</td>\n",
       "      <td>0.0</td>\n",
       "      <td>0.0</td>\n",
       "      <td>0.0</td>\n",
       "      <td>0.000000</td>\n",
       "      <td>0.000000</td>\n",
       "      <td>0.0</td>\n",
       "      <td>...</td>\n",
       "      <td>20.0</td>\n",
       "      <td>0.0</td>\n",
       "      <td>0.0</td>\n",
       "      <td>0.0</td>\n",
       "      <td>0.0</td>\n",
       "      <td>0.0</td>\n",
       "      <td>0.0</td>\n",
       "      <td>0.0</td>\n",
       "      <td>0.0</td>\n",
       "      <td>0.0</td>\n",
       "    </tr>\n",
       "    <tr>\n",
       "      <th>4</th>\n",
       "      <td>274016.0</td>\n",
       "      <td>9.0</td>\n",
       "      <td>13.0</td>\n",
       "      <td>1285.0</td>\n",
       "      <td>6141.0</td>\n",
       "      <td>517.0</td>\n",
       "      <td>0.0</td>\n",
       "      <td>142.777778</td>\n",
       "      <td>183.887722</td>\n",
       "      <td>1460.0</td>\n",
       "      <td>...</td>\n",
       "      <td>20.0</td>\n",
       "      <td>0.0</td>\n",
       "      <td>0.0</td>\n",
       "      <td>0.0</td>\n",
       "      <td>0.0</td>\n",
       "      <td>0.0</td>\n",
       "      <td>0.0</td>\n",
       "      <td>0.0</td>\n",
       "      <td>0.0</td>\n",
       "      <td>0.0</td>\n",
       "    </tr>\n",
       "    <tr>\n",
       "      <th>...</th>\n",
       "      <td>...</td>\n",
       "      <td>...</td>\n",
       "      <td>...</td>\n",
       "      <td>...</td>\n",
       "      <td>...</td>\n",
       "      <td>...</td>\n",
       "      <td>...</td>\n",
       "      <td>...</td>\n",
       "      <td>...</td>\n",
       "      <td>...</td>\n",
       "      <td>...</td>\n",
       "      <td>...</td>\n",
       "      <td>...</td>\n",
       "      <td>...</td>\n",
       "      <td>...</td>\n",
       "      <td>...</td>\n",
       "      <td>...</td>\n",
       "      <td>...</td>\n",
       "      <td>...</td>\n",
       "      <td>...</td>\n",
       "      <td>...</td>\n",
       "    </tr>\n",
       "    <tr>\n",
       "      <th>2097145</th>\n",
       "      <td>3.0</td>\n",
       "      <td>1.0</td>\n",
       "      <td>1.0</td>\n",
       "      <td>0.0</td>\n",
       "      <td>0.0</td>\n",
       "      <td>0.0</td>\n",
       "      <td>0.0</td>\n",
       "      <td>0.000000</td>\n",
       "      <td>0.000000</td>\n",
       "      <td>0.0</td>\n",
       "      <td>...</td>\n",
       "      <td>40.0</td>\n",
       "      <td>0.0</td>\n",
       "      <td>0.0</td>\n",
       "      <td>0.0</td>\n",
       "      <td>0.0</td>\n",
       "      <td>0.0</td>\n",
       "      <td>0.0</td>\n",
       "      <td>0.0</td>\n",
       "      <td>0.0</td>\n",
       "      <td>1.0</td>\n",
       "    </tr>\n",
       "    <tr>\n",
       "      <th>2097146</th>\n",
       "      <td>3.0</td>\n",
       "      <td>1.0</td>\n",
       "      <td>1.0</td>\n",
       "      <td>0.0</td>\n",
       "      <td>0.0</td>\n",
       "      <td>0.0</td>\n",
       "      <td>0.0</td>\n",
       "      <td>0.000000</td>\n",
       "      <td>0.000000</td>\n",
       "      <td>0.0</td>\n",
       "      <td>...</td>\n",
       "      <td>40.0</td>\n",
       "      <td>0.0</td>\n",
       "      <td>0.0</td>\n",
       "      <td>0.0</td>\n",
       "      <td>0.0</td>\n",
       "      <td>0.0</td>\n",
       "      <td>0.0</td>\n",
       "      <td>0.0</td>\n",
       "      <td>0.0</td>\n",
       "      <td>1.0</td>\n",
       "    </tr>\n",
       "    <tr>\n",
       "      <th>2097147</th>\n",
       "      <td>3.0</td>\n",
       "      <td>1.0</td>\n",
       "      <td>1.0</td>\n",
       "      <td>0.0</td>\n",
       "      <td>0.0</td>\n",
       "      <td>0.0</td>\n",
       "      <td>0.0</td>\n",
       "      <td>0.000000</td>\n",
       "      <td>0.000000</td>\n",
       "      <td>0.0</td>\n",
       "      <td>...</td>\n",
       "      <td>40.0</td>\n",
       "      <td>0.0</td>\n",
       "      <td>0.0</td>\n",
       "      <td>0.0</td>\n",
       "      <td>0.0</td>\n",
       "      <td>0.0</td>\n",
       "      <td>0.0</td>\n",
       "      <td>0.0</td>\n",
       "      <td>0.0</td>\n",
       "      <td>1.0</td>\n",
       "    </tr>\n",
       "    <tr>\n",
       "      <th>2097148</th>\n",
       "      <td>5.0</td>\n",
       "      <td>1.0</td>\n",
       "      <td>1.0</td>\n",
       "      <td>0.0</td>\n",
       "      <td>0.0</td>\n",
       "      <td>0.0</td>\n",
       "      <td>0.0</td>\n",
       "      <td>0.000000</td>\n",
       "      <td>0.000000</td>\n",
       "      <td>0.0</td>\n",
       "      <td>...</td>\n",
       "      <td>40.0</td>\n",
       "      <td>0.0</td>\n",
       "      <td>0.0</td>\n",
       "      <td>0.0</td>\n",
       "      <td>0.0</td>\n",
       "      <td>0.0</td>\n",
       "      <td>0.0</td>\n",
       "      <td>0.0</td>\n",
       "      <td>0.0</td>\n",
       "      <td>1.0</td>\n",
       "    </tr>\n",
       "    <tr>\n",
       "      <th>2097149</th>\n",
       "      <td>2.0</td>\n",
       "      <td>1.0</td>\n",
       "      <td>1.0</td>\n",
       "      <td>0.0</td>\n",
       "      <td>0.0</td>\n",
       "      <td>0.0</td>\n",
       "      <td>0.0</td>\n",
       "      <td>0.000000</td>\n",
       "      <td>0.000000</td>\n",
       "      <td>0.0</td>\n",
       "      <td>...</td>\n",
       "      <td>40.0</td>\n",
       "      <td>0.0</td>\n",
       "      <td>0.0</td>\n",
       "      <td>0.0</td>\n",
       "      <td>0.0</td>\n",
       "      <td>0.0</td>\n",
       "      <td>0.0</td>\n",
       "      <td>0.0</td>\n",
       "      <td>0.0</td>\n",
       "      <td>1.0</td>\n",
       "    </tr>\n",
       "  </tbody>\n",
       "</table>\n",
       "<p>2094591 rows × 77 columns</p>\n",
       "</div>"
      ],
      "text/plain": [
       "         Flow Duration  Tot Fwd Pkts  Tot Bwd Pkts  TotLen Fwd Pkts  \\\n",
       "0             141385.0           9.0           7.0            553.0   \n",
       "1                281.0           2.0           1.0             38.0   \n",
       "2             279824.0          11.0          15.0           1086.0   \n",
       "3                132.0           2.0           0.0              0.0   \n",
       "4             274016.0           9.0          13.0           1285.0   \n",
       "...                ...           ...           ...              ...   \n",
       "2097145            3.0           1.0           1.0              0.0   \n",
       "2097146            3.0           1.0           1.0              0.0   \n",
       "2097147            3.0           1.0           1.0              0.0   \n",
       "2097148            5.0           1.0           1.0              0.0   \n",
       "2097149            2.0           1.0           1.0              0.0   \n",
       "\n",
       "         TotLen Bwd Pkts  Fwd Pkt Len Max  Fwd Pkt Len Min  Fwd Pkt Len Mean  \\\n",
       "0                 3773.0            202.0              0.0         61.444444   \n",
       "1                    0.0             38.0              0.0         19.000000   \n",
       "2                10527.0            385.0              0.0         98.727273   \n",
       "3                    0.0              0.0              0.0          0.000000   \n",
       "4                 6141.0            517.0              0.0        142.777778   \n",
       "...                  ...              ...              ...               ...   \n",
       "2097145              0.0              0.0              0.0          0.000000   \n",
       "2097146              0.0              0.0              0.0          0.000000   \n",
       "2097147              0.0              0.0              0.0          0.000000   \n",
       "2097148              0.0              0.0              0.0          0.000000   \n",
       "2097149              0.0              0.0              0.0          0.000000   \n",
       "\n",
       "         Fwd Pkt Len Std  Bwd Pkt Len Max  ...  Fwd Seg Size Min  Active Mean  \\\n",
       "0              87.534438           1460.0  ...              20.0          0.0   \n",
       "1              26.870058              0.0  ...              20.0          0.0   \n",
       "2             129.392497           1460.0  ...              20.0          0.0   \n",
       "3               0.000000              0.0  ...              20.0          0.0   \n",
       "4             183.887722           1460.0  ...              20.0          0.0   \n",
       "...                  ...              ...  ...               ...          ...   \n",
       "2097145         0.000000              0.0  ...              40.0          0.0   \n",
       "2097146         0.000000              0.0  ...              40.0          0.0   \n",
       "2097147         0.000000              0.0  ...              40.0          0.0   \n",
       "2097148         0.000000              0.0  ...              40.0          0.0   \n",
       "2097149         0.000000              0.0  ...              40.0          0.0   \n",
       "\n",
       "         Active Std  Active Max  Active Min  Idle Mean  Idle Std  Idle Max  \\\n",
       "0               0.0         0.0         0.0        0.0       0.0       0.0   \n",
       "1               0.0         0.0         0.0        0.0       0.0       0.0   \n",
       "2               0.0         0.0         0.0        0.0       0.0       0.0   \n",
       "3               0.0         0.0         0.0        0.0       0.0       0.0   \n",
       "4               0.0         0.0         0.0        0.0       0.0       0.0   \n",
       "...             ...         ...         ...        ...       ...       ...   \n",
       "2097145         0.0         0.0         0.0        0.0       0.0       0.0   \n",
       "2097146         0.0         0.0         0.0        0.0       0.0       0.0   \n",
       "2097147         0.0         0.0         0.0        0.0       0.0       0.0   \n",
       "2097148         0.0         0.0         0.0        0.0       0.0       0.0   \n",
       "2097149         0.0         0.0         0.0        0.0       0.0       0.0   \n",
       "\n",
       "         Idle Min  Label  \n",
       "0             0.0    0.0  \n",
       "1             0.0    0.0  \n",
       "2             0.0    0.0  \n",
       "3             0.0    0.0  \n",
       "4             0.0    0.0  \n",
       "...           ...    ...  \n",
       "2097145       0.0    1.0  \n",
       "2097146       0.0    1.0  \n",
       "2097147       0.0    1.0  \n",
       "2097148       0.0    1.0  \n",
       "2097149       0.0    1.0  \n",
       "\n",
       "[2094591 rows x 77 columns]"
      ]
     },
     "execution_count": 22,
     "metadata": {},
     "output_type": "execute_result"
    }
   ],
   "source": [
    "%%time\n",
    "df_dataset.replace(to_replace=['Benign'], value=0, inplace=True)\n",
    "df_dataset.replace(to_replace=[\"Bot\", \"DoS attacks-SlowHTTPTest\", \"DoS attacks-Hulk\"], value=1, inplace=True)\n",
    "df_dataset[df_dataset.columns[-1]].unique()\n",
    "# some values are saved as string, but actually they should be integer values, forcing here changing types\n",
    "df_dataset.astype('float')"
   ]
  },
  {
   "cell_type": "markdown",
   "metadata": {},
   "source": [
    "### Dropping duplicated rows"
   ]
  },
  {
   "cell_type": "code",
   "execution_count": 23,
   "metadata": {},
   "outputs": [
    {
     "name": "stdout",
     "output_type": "stream",
     "text": [
      "(2094591, 77)\n",
      "(1364018, 77)\n"
     ]
    }
   ],
   "source": [
    "print(df_dataset.shape)\n",
    "df_dataset.drop_duplicates(inplace=True)\n",
    "print(df_dataset.shape)\n"
   ]
  },
  {
   "cell_type": "markdown",
   "metadata": {},
   "source": [
    "### Check columns datatypes"
   ]
  },
  {
   "cell_type": "code",
   "execution_count": 24,
   "metadata": {},
   "outputs": [
    {
     "name": "stdout",
     "output_type": "stream",
     "text": [
      "<class 'pandas.core.frame.DataFrame'>\n",
      "Index: 1364018 entries, 0 to 2056064\n",
      "Data columns (total 77 columns):\n",
      " #   Column             Non-Null Count    Dtype \n",
      "---  ------             --------------    ----- \n",
      " 0   Flow Duration      1364018 non-null  object\n",
      " 1   Tot Fwd Pkts       1364018 non-null  object\n",
      " 2   Tot Bwd Pkts       1364018 non-null  object\n",
      " 3   TotLen Fwd Pkts    1364018 non-null  object\n",
      " 4   TotLen Bwd Pkts    1364018 non-null  object\n",
      " 5   Fwd Pkt Len Max    1364018 non-null  object\n",
      " 6   Fwd Pkt Len Min    1364018 non-null  object\n",
      " 7   Fwd Pkt Len Mean   1364018 non-null  object\n",
      " 8   Fwd Pkt Len Std    1364018 non-null  object\n",
      " 9   Bwd Pkt Len Max    1364018 non-null  object\n",
      " 10  Bwd Pkt Len Min    1364018 non-null  object\n",
      " 11  Bwd Pkt Len Mean   1364018 non-null  object\n",
      " 12  Bwd Pkt Len Std    1364018 non-null  object\n",
      " 13  Flow Byts/s        1364018 non-null  object\n",
      " 14  Flow Pkts/s        1364018 non-null  object\n",
      " 15  Flow IAT Mean      1364018 non-null  object\n",
      " 16  Flow IAT Std       1364018 non-null  object\n",
      " 17  Flow IAT Max       1364018 non-null  object\n",
      " 18  Flow IAT Min       1364018 non-null  object\n",
      " 19  Fwd IAT Tot        1364018 non-null  object\n",
      " 20  Fwd IAT Mean       1364018 non-null  object\n",
      " 21  Fwd IAT Std        1364018 non-null  object\n",
      " 22  Fwd IAT Max        1364018 non-null  object\n",
      " 23  Fwd IAT Min        1364018 non-null  object\n",
      " 24  Bwd IAT Tot        1364018 non-null  object\n",
      " 25  Bwd IAT Mean       1364018 non-null  object\n",
      " 26  Bwd IAT Std        1364018 non-null  object\n",
      " 27  Bwd IAT Max        1364018 non-null  object\n",
      " 28  Bwd IAT Min        1364018 non-null  object\n",
      " 29  Fwd PSH Flags      1364018 non-null  object\n",
      " 30  Bwd PSH Flags      1364018 non-null  object\n",
      " 31  Fwd URG Flags      1364018 non-null  object\n",
      " 32  Bwd URG Flags      1364018 non-null  object\n",
      " 33  Fwd Header Len     1364018 non-null  object\n",
      " 34  Bwd Header Len     1364018 non-null  object\n",
      " 35  Fwd Pkts/s         1364018 non-null  object\n",
      " 36  Bwd Pkts/s         1364018 non-null  object\n",
      " 37  Pkt Len Min        1364018 non-null  object\n",
      " 38  Pkt Len Max        1364018 non-null  object\n",
      " 39  Pkt Len Mean       1364018 non-null  object\n",
      " 40  Pkt Len Std        1364018 non-null  object\n",
      " 41  Pkt Len Var        1364018 non-null  object\n",
      " 42  FIN Flag Cnt       1364018 non-null  object\n",
      " 43  SYN Flag Cnt       1364018 non-null  object\n",
      " 44  RST Flag Cnt       1364018 non-null  object\n",
      " 45  PSH Flag Cnt       1364018 non-null  object\n",
      " 46  ACK Flag Cnt       1364018 non-null  object\n",
      " 47  URG Flag Cnt       1364018 non-null  object\n",
      " 48  CWE Flag Count     1364018 non-null  object\n",
      " 49  ECE Flag Cnt       1364018 non-null  object\n",
      " 50  Down/Up Ratio      1364018 non-null  object\n",
      " 51  Pkt Size Avg       1364018 non-null  object\n",
      " 52  Fwd Seg Size Avg   1364018 non-null  object\n",
      " 53  Bwd Seg Size Avg   1364018 non-null  object\n",
      " 54  Fwd Byts/b Avg     1364018 non-null  object\n",
      " 55  Fwd Pkts/b Avg     1364018 non-null  object\n",
      " 56  Fwd Blk Rate Avg   1364018 non-null  object\n",
      " 57  Bwd Byts/b Avg     1364018 non-null  object\n",
      " 58  Bwd Pkts/b Avg     1364018 non-null  object\n",
      " 59  Bwd Blk Rate Avg   1364018 non-null  object\n",
      " 60  Subflow Fwd Pkts   1364018 non-null  object\n",
      " 61  Subflow Fwd Byts   1364018 non-null  object\n",
      " 62  Subflow Bwd Pkts   1364018 non-null  object\n",
      " 63  Subflow Bwd Byts   1364018 non-null  object\n",
      " 64  Init Fwd Win Byts  1364018 non-null  object\n",
      " 65  Init Bwd Win Byts  1364018 non-null  object\n",
      " 66  Fwd Act Data Pkts  1364018 non-null  object\n",
      " 67  Fwd Seg Size Min   1364018 non-null  object\n",
      " 68  Active Mean        1364018 non-null  object\n",
      " 69  Active Std         1364018 non-null  object\n",
      " 70  Active Max         1364018 non-null  object\n",
      " 71  Active Min         1364018 non-null  object\n",
      " 72  Idle Mean          1364018 non-null  object\n",
      " 73  Idle Std           1364018 non-null  object\n",
      " 74  Idle Max           1364018 non-null  object\n",
      " 75  Idle Min           1364018 non-null  object\n",
      " 76  Label              1364018 non-null  int64 \n",
      "dtypes: int64(1), object(76)\n",
      "memory usage: 811.7+ MB\n"
     ]
    }
   ],
   "source": [
    "df_dataset.info()"
   ]
  },
  {
   "cell_type": "markdown",
   "metadata": {},
   "source": [
    "### Distributions labels after drop rows"
   ]
  },
  {
   "cell_type": "code",
   "execution_count": 25,
   "metadata": {},
   "outputs": [
    {
     "name": "stdout",
     "output_type": "stream",
     "text": [
      "(1364018, 77)\n"
     ]
    },
    {
     "name": "stderr",
     "output_type": "stream",
     "text": [
      "C:\\Users\\ASUS\\AppData\\Local\\Temp\\ipykernel_40980\\1398362875.py:8: FutureWarning: \n",
      "\n",
      "Passing `palette` without assigning `hue` is deprecated and will be removed in v0.14.0. Assign the `x` variable to `hue` and set `legend=False` for the same effect.\n",
      "\n",
      "  ax = sns.countplot(x=df_dataset[df_dataset.columns[-1]],\n"
     ]
    },
    {
     "data": {
      "text/plain": [
       "Text(0.5, 0, '0 = Bening; 1 = Malicious')"
      ]
     },
     "execution_count": 25,
     "metadata": {},
     "output_type": "execute_result"
    },
    {
     "data": {
      "image/png": "[encoded data removed]",
      "text/plain": [
       "<Figure size 800x600 with 1 Axes>"
      ]
     },
     "metadata": {},
     "output_type": "display_data"
    }
   ],
   "source": [
    "label_benign = df_dataset[\"Label\"].value_counts()[[0]].sum()\n",
    "label_malicious = df_dataset[\"Label\"].value_counts()[[1]].sum()\n",
    "\n",
    "print(df_dataset.shape)\n",
    "\n",
    "abs_values = [label_benign, label_malicious]\n",
    "sns.set(rc={'figure.figsize':(8, 6)})\n",
    "ax = sns.countplot(x=df_dataset[df_dataset.columns[-1]], \n",
    "              data = df_dataset,\n",
    "              palette = 'dark:#5A9_r')\n",
    "ax.bar_label(container=ax.containers[0], labels=[label_benign])\n",
    "# ax.bar_label(container=ax.containers[1], labels=[label_malicious]) # fails compile in google colab\n",
    "plt.xlabel(f\"0 = Bening; 1 = Malicious\")\n"
   ]
  },
  {
   "cell_type": "markdown",
   "metadata": {},
   "source": [
    "##### Inbalance problem\n",
    "There are two ways to solve this problem, \n",
    "1. Droping bening rows.\n",
    "2. Sampling Malicious rows.\n",
    "\n",
    "for this attempt, I am dropping bening rows until it gets balanced.\n"
   ]
  },
  {
   "cell_type": "code",
   "execution_count": 26,
   "metadata": {},
   "outputs": [],
   "source": [
    "df_dataset.drop(df_dataset[df_dataset.Label == 0].index[-(label_benign-label_malicious):], inplace=True)"
   ]
  },
  {
   "cell_type": "markdown",
   "metadata": {},
   "source": [
    "### Distributions labels after drop fixing imbalance problem"
   ]
  },
  {
   "cell_type": "code",
   "execution_count": 29,
   "metadata": {},
   "outputs": [
    {
     "name": "stdout",
     "output_type": "stream",
     "text": [
      "(580178, 77)\n"
     ]
    },
    {
     "name": "stderr",
     "output_type": "stream",
     "text": [
      "C:\\Users\\ASUS\\AppData\\Local\\Temp\\ipykernel_40980\\2905662639.py:8: FutureWarning: \n",
      "\n",
      "Passing `palette` without assigning `hue` is deprecated and will be removed in v0.14.0. Assign the `x` variable to `hue` and set `legend=False` for the same effect.\n",
      "\n",
      "  ax = sns.countplot(x=df_dataset[df_dataset.columns[-1]],\n"
     ]
    },
    {
     "data": {
      "text/plain": [
       "Text(0.5, 0, '0 = Bening; 1 = Malicious')"
      ]
     },
     "execution_count": 29,
     "metadata": {},
     "output_type": "execute_result"
    },
    {
     "data": {
      "image/png": "[encoded data removed]",
      "text/plain": [
       "<Figure size 800x600 with 1 Axes>"
      ]
     },
     "metadata": {},
     "output_type": "display_data"
    }
   ],
   "source": [
    "label_benign = df_dataset[\"Label\"].value_counts()[[0]].sum()\n",
    "label_malicious = df_dataset[\"Label\"].value_counts()[[1]].sum()\n",
    "\n",
    "print(df_dataset.shape)\n",
    "\n",
    "abs_values = [label_benign, label_malicious]\n",
    "sns.set(rc={'figure.figsize':(8, 6)})\n",
    "ax = sns.countplot(x=df_dataset[df_dataset.columns[-1]], \n",
    "              data = df_dataset,\n",
    "              palette = 'dark:#5A9_r')\n",
    "ax.bar_label(container=ax.containers[0], labels=[label_benign])\n",
    "# ax.bar_label(container=ax.containers[1], labels=[label_malicious]) # fails compile in google colab\n",
    "plt.xlabel(f\"0 = Bening; 1 = Malicious\")"
   ]
  },
  {
   "cell_type": "markdown",
   "metadata": {},
   "source": [
    "### Saving the Dataset as a csv file"
   ]
  },
  {
   "cell_type": "code",
   "execution_count": 28,
   "metadata": {},
   "outputs": [],
   "source": [
    "df_dataset.to_csv(\"processed_dataset_in_2.csv\", index=False)"
   ]
  }
 ],
 "metadata": {
  "kernelspec": {
   "display_name": ".venv",
   "language": "python",
   "name": "python3"
  },
  "language_info": {
   "codemirror_mode": {
    "name": "ipython",
    "version": 3
   },
   "file_extension": ".py",
   "mimetype": "text/x-python",
   "name": "python",
   "nbconvert_exporter": "python",
   "pygments_lexer": "ipython3",
   "version": "3.9.13"
  }
 },
 "nbformat": 4,
 "nbformat_minor": 2
}
