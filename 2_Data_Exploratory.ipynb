{
 "cells": [
  {
   "cell_type": "markdown",
   "metadata": {},
   "source": [
    "## Checking Selected datasets\n",
    "For this Capstone, are selecte to be procesed two datasets from CID XXX\n",
    "- Friday 02 03 2018\n",
    "- Friday 16 02 2018\n"
   ]
  },
  {
   "cell_type": "code",
   "execution_count": 58,
   "metadata": {},
   "outputs": [
    {
     "name": "stdout",
     "output_type": "stream",
     "text": [
      "CPU times: total: 0 ns\n",
      "Wall time: 0 ns\n"
     ]
    }
   ],
   "source": [
    "%%time\n",
    "import os\n",
    "import pandas as pd\n",
    "import matplotlib\n",
    "import numpy as np"
   ]
  },
  {
   "cell_type": "markdown",
   "metadata": {},
   "source": [
    "### Loading path to dataset files."
   ]
  },
  {
   "cell_type": "code",
   "execution_count": 3,
   "metadata": {},
   "outputs": [
    {
     "data": {
      "text/plain": [
       "['./datasets/Friday-02-03-2018_TrafficForML_CICFlowMeter.csv',\n",
       " './datasets/Friday-16-02-2018_TrafficForML_CICFlowMeter.csv']"
      ]
     },
     "execution_count": 3,
     "metadata": {},
     "output_type": "execute_result"
    }
   ],
   "source": [
    "DATASET_FILES_PATH = []\n",
    "for path, _, file in (os.walk(\"./datasets/\")):\n",
    "    for eachFile in file:\n",
    "        DATASET_FILES_PATH.append(path + eachFile)\n",
    "DATASET_FILES_PATH"
   ]
  },
  {
   "cell_type": "markdown",
   "metadata": {},
   "source": [
    "### Loading datasets to PandaData Frame"
   ]
  },
  {
   "cell_type": "code",
   "execution_count": 4,
   "metadata": {},
   "outputs": [
    {
     "name": "stderr",
     "output_type": "stream",
     "text": [
      "<timed exec>:2: DtypeWarning: Columns (0,1,3,4,5,6,7,8,9,10,11,12,13,14,15,16,17,18,19,20,21,22,23,24,25,26,27,28,29,30,31,32,33,34,35,36,37,38,39,40,41,42,43,44,45,46,47,48,49,50,51,52,53,54,55,56,57,58,59,60,61,62,63,64,65,66,67,68,69,70,71,72,73,74,75,76,77,78) have mixed types. Specify dtype option on import or set low_memory=False.\n"
     ]
    },
    {
     "name": "stdout",
     "output_type": "stream",
     "text": [
      "CPU times: total: 16.6 s\n",
      "Wall time: 16.7 s\n"
     ]
    }
   ],
   "source": [
    "%%time\n",
    "df_friday1 = pd.read_csv(DATASET_FILES_PATH[0])\n",
    "df_friday2 = pd.read_csv(DATASET_FILES_PATH[1])\n"
   ]
  },
  {
   "cell_type": "markdown",
   "metadata": {},
   "source": [
    "### Concatenating datasets"
   ]
  },
  {
   "cell_type": "code",
   "execution_count": 5,
   "metadata": {},
   "outputs": [],
   "source": [
    "df_dataset = pd.concat([df_friday1, df_friday2], axis=0, ignore_index=True)"
   ]
  },
  {
   "cell_type": "markdown",
   "metadata": {},
   "source": [
    "Because two datasets was concatenated, then need to delete the row which cointain the second dataframe title\n"
   ]
  },
  {
   "cell_type": "code",
   "execution_count": 63,
   "metadata": {},
   "outputs": [
    {
     "name": "stdout",
     "output_type": "stream",
     "text": [
      "(2094591, 80)\n"
     ]
    }
   ],
   "source": [
    "df_dataset.drop(df_dataset.loc[df_dataset[\"Label\"] == \"Label\"].index, inplace=True)\n",
    "print(df_dataset.shape)"
   ]
  },
  {
   "cell_type": "markdown",
   "metadata": {},
   "source": [
    "## Droping rows with infinite or null values"
   ]
  },
  {
   "cell_type": "code",
   "execution_count": 65,
   "metadata": {},
   "outputs": [
    {
     "name": "stdout",
     "output_type": "stream",
     "text": [
      "(2094591, 80)\n",
      "(2094591, 80)\n"
     ]
    }
   ],
   "source": [
    "print(df_dataset.shape)\n",
    "df_dataset[df_dataset.isnull().any(axis=1)]\n",
    "df_dataset.replace([np.inf, -np.inf], np.nan)\n",
    "df_dataset.dropna(inplace=True)\n",
    "print(df_dataset.shape)"
   ]
  },
  {
   "cell_type": "markdown",
   "metadata": {},
   "source": [
    "### Check Label labels"
   ]
  },
  {
   "cell_type": "code",
   "execution_count": 31,
   "metadata": {},
   "outputs": [
    {
     "name": "stdout",
     "output_type": "stream",
     "text": [
      "[0 1]\n",
      "(2097149, 80)\n"
     ]
    }
   ],
   "source": [
    "print(df_dataset['Label'].unique())\n",
    "print(df_dataset.shape)"
   ]
  },
  {
   "cell_type": "markdown",
   "metadata": {},
   "source": [
    "### Changing Labels names \n",
    "To unify the labels, those malicius packages will be renamend as ones, and the normal as zeros.\n",
    "- 0 - normal package\n",
    "- 1 - malicius package"
   ]
  },
  {
   "cell_type": "code",
   "execution_count": 11,
   "metadata": {},
   "outputs": [
    {
     "name": "stdout",
     "output_type": "stream",
     "text": [
      "CPU times: total: 2min 59s\n",
      "Wall time: 3min 1s\n"
     ]
    }
   ],
   "source": [
    "%%time\n",
    "df_dataset.replace(to_replace=['Benign'], value=0, inplace=True)\n",
    "df_dataset.replace(to_replace=[\"Bot\", \"DoS attacks-SlowHTTPTest\", \"DoS attacks-Hulk\"], value=1, inplace=True)\n",
    "df_dataset[df_columns[-1]].unique()"
   ]
  },
  {
   "cell_type": "markdown",
   "metadata": {},
   "source": [
    "### Check columns datatypes"
   ]
  },
  {
   "cell_type": "code",
   "execution_count": 28,
   "metadata": {},
   "outputs": [
    {
     "data": {
      "text/plain": [
       "Index(['Dst Port', 'Protocol', 'Timestamp', 'Flow Duration', 'Tot Fwd Pkts',\n",
       "       'Tot Bwd Pkts', 'TotLen Fwd Pkts', 'TotLen Bwd Pkts', 'Fwd Pkt Len Max',\n",
       "       'Fwd Pkt Len Min', 'Fwd Pkt Len Mean', 'Fwd Pkt Len Std',\n",
       "       'Bwd Pkt Len Max', 'Bwd Pkt Len Min', 'Bwd Pkt Len Mean',\n",
       "       'Bwd Pkt Len Std', 'Flow Byts/s', 'Flow Pkts/s', 'Flow IAT Mean',\n",
       "       'Flow IAT Std', 'Flow IAT Max', 'Flow IAT Min', 'Fwd IAT Tot',\n",
       "       'Fwd IAT Mean', 'Fwd IAT Std', 'Fwd IAT Max', 'Fwd IAT Min',\n",
       "       'Bwd IAT Tot', 'Bwd IAT Mean', 'Bwd IAT Std', 'Bwd IAT Max',\n",
       "       'Bwd IAT Min', 'Fwd PSH Flags', 'Bwd PSH Flags', 'Fwd URG Flags',\n",
       "       'Bwd URG Flags', 'Fwd Header Len', 'Bwd Header Len', 'Fwd Pkts/s',\n",
       "       'Bwd Pkts/s', 'Pkt Len Min', 'Pkt Len Max', 'Pkt Len Mean',\n",
       "       'Pkt Len Std', 'Pkt Len Var', 'FIN Flag Cnt', 'SYN Flag Cnt',\n",
       "       'RST Flag Cnt', 'PSH Flag Cnt', 'ACK Flag Cnt', 'URG Flag Cnt',\n",
       "       'CWE Flag Count', 'ECE Flag Cnt', 'Down/Up Ratio', 'Pkt Size Avg',\n",
       "       'Fwd Seg Size Avg', 'Bwd Seg Size Avg', 'Fwd Byts/b Avg',\n",
       "       'Fwd Pkts/b Avg', 'Fwd Blk Rate Avg', 'Bwd Byts/b Avg',\n",
       "       'Bwd Pkts/b Avg', 'Bwd Blk Rate Avg', 'Subflow Fwd Pkts',\n",
       "       'Subflow Fwd Byts', 'Subflow Bwd Pkts', 'Subflow Bwd Byts',\n",
       "       'Init Fwd Win Byts', 'Init Bwd Win Byts', 'Fwd Act Data Pkts',\n",
       "       'Fwd Seg Size Min', 'Active Mean', 'Active Std', 'Active Max',\n",
       "       'Active Min', 'Idle Mean', 'Idle Std', 'Idle Max', 'Idle Min', 'Label'],\n",
       "      dtype='object')"
      ]
     },
     "execution_count": 28,
     "metadata": {},
     "output_type": "execute_result"
    }
   ],
   "source": [
    "# Saving column names in to an array\n",
    "df_columns = df_dataset.columns\n",
    "df_columns"
   ]
  },
  {
   "cell_type": "code",
   "execution_count": 29,
   "metadata": {},
   "outputs": [
    {
     "name": "stdout",
     "output_type": "stream",
     "text": [
      " N      Column name\n",
      "------------------\n",
      "  1  |  Dst Port\n",
      "  2  |  Protocol\n",
      "  3  |  Timestamp\n",
      "  4  |  Flow Duration\n",
      "  5  |  Tot Fwd Pkts\n",
      "  6  |  Tot Bwd Pkts\n",
      "  7  |  TotLen Fwd Pkts\n",
      "  8  |  TotLen Bwd Pkts\n",
      "  9  |  Fwd Pkt Len Max\n",
      " 10  |  Fwd Pkt Len Min\n",
      " 11  |  Fwd Pkt Len Mean\n",
      " 12  |  Fwd Pkt Len Std\n",
      " 13  |  Bwd Pkt Len Max\n",
      " 14  |  Bwd Pkt Len Min\n",
      " 15  |  Bwd Pkt Len Mean\n",
      " 16  |  Bwd Pkt Len Std\n",
      " 17  |  Flow Byts/s\n",
      " 18  |  Flow Pkts/s\n",
      " 19  |  Flow IAT Mean\n",
      " 20  |  Flow IAT Std\n",
      " 21  |  Flow IAT Max\n",
      " 22  |  Flow IAT Min\n",
      " 23  |  Fwd IAT Tot\n",
      " 24  |  Fwd IAT Mean\n",
      " 25  |  Fwd IAT Std\n",
      " 26  |  Fwd IAT Max\n",
      " 27  |  Fwd IAT Min\n",
      " 28  |  Bwd IAT Tot\n",
      " 29  |  Bwd IAT Mean\n",
      " 30  |  Bwd IAT Std\n",
      " 31  |  Bwd IAT Max\n",
      " 32  |  Bwd IAT Min\n",
      " 33  |  Fwd PSH Flags\n",
      " 34  |  Bwd PSH Flags\n",
      " 35  |  Fwd URG Flags\n",
      " 36  |  Bwd URG Flags\n",
      " 37  |  Fwd Header Len\n",
      " 38  |  Bwd Header Len\n",
      " 39  |  Fwd Pkts/s\n",
      " 40  |  Bwd Pkts/s\n",
      " 41  |  Pkt Len Min\n",
      " 42  |  Pkt Len Max\n",
      " 43  |  Pkt Len Mean\n",
      " 44  |  Pkt Len Std\n",
      " 45  |  Pkt Len Var\n",
      " 46  |  FIN Flag Cnt\n",
      " 47  |  SYN Flag Cnt\n",
      " 48  |  RST Flag Cnt\n",
      " 49  |  PSH Flag Cnt\n",
      " 50  |  ACK Flag Cnt\n",
      " 51  |  URG Flag Cnt\n",
      " 52  |  CWE Flag Count\n",
      " 53  |  ECE Flag Cnt\n",
      " 54  |  Down/Up Ratio\n",
      " 55  |  Pkt Size Avg\n",
      " 56  |  Fwd Seg Size Avg\n",
      " 57  |  Bwd Seg Size Avg\n",
      " 58  |  Fwd Byts/b Avg\n",
      " 59  |  Fwd Pkts/b Avg\n",
      " 60  |  Fwd Blk Rate Avg\n",
      " 61  |  Bwd Byts/b Avg\n",
      " 62  |  Bwd Pkts/b Avg\n",
      " 63  |  Bwd Blk Rate Avg\n",
      " 64  |  Subflow Fwd Pkts\n",
      " 65  |  Subflow Fwd Byts\n",
      " 66  |  Subflow Bwd Pkts\n",
      " 67  |  Subflow Bwd Byts\n",
      " 68  |  Init Fwd Win Byts\n",
      " 69  |  Init Bwd Win Byts\n",
      " 70  |  Fwd Act Data Pkts\n",
      " 71  |  Fwd Seg Size Min\n",
      " 72  |  Active Mean\n",
      " 73  |  Active Std\n",
      " 74  |  Active Max\n",
      " 75  |  Active Min\n",
      " 76  |  Idle Mean\n",
      " 77  |  Idle Std\n",
      " 78  |  Idle Max\n",
      " 79  |  Idle Min\n",
      " 80  |  Label\n"
     ]
    }
   ],
   "source": [
    "print(\" N      Column name\")\n",
    "print(\"------------------\")\n",
    "for count, name in enumerate(df_dataset.columns):\n",
    "    print(f'{(count + 1):>3}', ' | ', name)"
   ]
  },
  {
   "cell_type": "code",
   "execution_count": 35,
   "metadata": {},
   "outputs": [
    {
     "data": {
      "text/plain": [
       "array([0, 1], dtype=object)"
      ]
     },
     "execution_count": 35,
     "metadata": {},
     "output_type": "execute_result"
    }
   ],
   "source": []
  },
  {
   "cell_type": "markdown",
   "metadata": {},
   "source": [
    "### Check Columns data types"
   ]
  },
  {
   "cell_type": "code",
   "execution_count": 37,
   "metadata": {},
   "outputs": [
    {
     "data": {
      "text/html": [
       "<div>\n",
       "<style scoped>\n",
       "    .dataframe tbody tr th:only-of-type {\n",
       "        vertical-align: middle;\n",
       "    }\n",
       "\n",
       "    .dataframe tbody tr th {\n",
       "        vertical-align: top;\n",
       "    }\n",
       "\n",
       "    .dataframe thead th {\n",
       "        text-align: right;\n",
       "    }\n",
       "</style>\n",
       "<table border=\"1\" class=\"dataframe\">\n",
       "  <thead>\n",
       "    <tr style=\"text-align: right;\">\n",
       "      <th></th>\n",
       "      <th>Dst Port</th>\n",
       "      <th>Protocol</th>\n",
       "      <th>Timestamp</th>\n",
       "      <th>Flow Duration</th>\n",
       "      <th>Tot Fwd Pkts</th>\n",
       "      <th>Tot Bwd Pkts</th>\n",
       "      <th>TotLen Fwd Pkts</th>\n",
       "      <th>TotLen Bwd Pkts</th>\n",
       "      <th>Fwd Pkt Len Max</th>\n",
       "      <th>Fwd Pkt Len Min</th>\n",
       "      <th>...</th>\n",
       "      <th>Fwd Seg Size Min</th>\n",
       "      <th>Active Mean</th>\n",
       "      <th>Active Std</th>\n",
       "      <th>Active Max</th>\n",
       "      <th>Active Min</th>\n",
       "      <th>Idle Mean</th>\n",
       "      <th>Idle Std</th>\n",
       "      <th>Idle Max</th>\n",
       "      <th>Idle Min</th>\n",
       "      <th>Label</th>\n",
       "    </tr>\n",
       "  </thead>\n",
       "  <tbody>\n",
       "    <tr>\n",
       "      <th>count</th>\n",
       "      <td>2097149</td>\n",
       "      <td>2097149</td>\n",
       "      <td>2097149</td>\n",
       "      <td>2097149</td>\n",
       "      <td>2097149</td>\n",
       "      <td>2097149</td>\n",
       "      <td>2097149</td>\n",
       "      <td>2097149.0</td>\n",
       "      <td>2097149</td>\n",
       "      <td>2097149</td>\n",
       "      <td>...</td>\n",
       "      <td>2097149</td>\n",
       "      <td>2097149.0</td>\n",
       "      <td>2097149.0</td>\n",
       "      <td>2097149.0</td>\n",
       "      <td>2097149.0</td>\n",
       "      <td>2097149.0</td>\n",
       "      <td>2097149.0</td>\n",
       "      <td>2097149.0</td>\n",
       "      <td>2097149.0</td>\n",
       "      <td>2097149</td>\n",
       "    </tr>\n",
       "    <tr>\n",
       "      <th>unique</th>\n",
       "      <td>42607</td>\n",
       "      <td>6</td>\n",
       "      <td>34602</td>\n",
       "      <td>836848</td>\n",
       "      <td>772</td>\n",
       "      <td>1080</td>\n",
       "      <td>6290</td>\n",
       "      <td>18367.0</td>\n",
       "      <td>1442</td>\n",
       "      <td>188</td>\n",
       "      <td>...</td>\n",
       "      <td>14</td>\n",
       "      <td>77920.0</td>\n",
       "      <td>56271.0</td>\n",
       "      <td>75416.0</td>\n",
       "      <td>47821.0</td>\n",
       "      <td>78250.0</td>\n",
       "      <td>58021.0</td>\n",
       "      <td>57011.0</td>\n",
       "      <td>82137.0</td>\n",
       "      <td>2</td>\n",
       "    </tr>\n",
       "    <tr>\n",
       "      <th>top</th>\n",
       "      <td>80</td>\n",
       "      <td>6</td>\n",
       "      <td>16/02/2018 01:45:28</td>\n",
       "      <td>2</td>\n",
       "      <td>2</td>\n",
       "      <td>0</td>\n",
       "      <td>0</td>\n",
       "      <td>0.0</td>\n",
       "      <td>0</td>\n",
       "      <td>0</td>\n",
       "      <td>...</td>\n",
       "      <td>32</td>\n",
       "      <td>0.0</td>\n",
       "      <td>0.0</td>\n",
       "      <td>0.0</td>\n",
       "      <td>0.0</td>\n",
       "      <td>0.0</td>\n",
       "      <td>0.0</td>\n",
       "      <td>0.0</td>\n",
       "      <td>0.0</td>\n",
       "      <td>0</td>\n",
       "    </tr>\n",
       "    <tr>\n",
       "      <th>freq</th>\n",
       "      <td>572066</td>\n",
       "      <td>1872742</td>\n",
       "      <td>8403</td>\n",
       "      <td>59227</td>\n",
       "      <td>706768</td>\n",
       "      <td>755480</td>\n",
       "      <td>908821</td>\n",
       "      <td>957981.0</td>\n",
       "      <td>908821</td>\n",
       "      <td>1882230</td>\n",
       "      <td>...</td>\n",
       "      <td>906718</td>\n",
       "      <td>2003749.0</td>\n",
       "      <td>2031004.0</td>\n",
       "      <td>2003749.0</td>\n",
       "      <td>2003749.0</td>\n",
       "      <td>1914407.0</td>\n",
       "      <td>2021973.0</td>\n",
       "      <td>1914407.0</td>\n",
       "      <td>1914407.0</td>\n",
       "      <td>1209156</td>\n",
       "    </tr>\n",
       "  </tbody>\n",
       "</table>\n",
       "<p>4 rows × 80 columns</p>\n",
       "</div>"
      ],
      "text/plain": [
       "        Dst Port  Protocol            Timestamp  Flow Duration  Tot Fwd Pkts  \\\n",
       "count    2097149   2097149              2097149        2097149       2097149   \n",
       "unique     42607         6                34602         836848           772   \n",
       "top           80         6  16/02/2018 01:45:28              2             2   \n",
       "freq      572066   1872742                 8403          59227        706768   \n",
       "\n",
       "        Tot Bwd Pkts  TotLen Fwd Pkts  TotLen Bwd Pkts  Fwd Pkt Len Max  \\\n",
       "count        2097149          2097149        2097149.0          2097149   \n",
       "unique          1080             6290          18367.0             1442   \n",
       "top                0                0              0.0                0   \n",
       "freq          755480           908821         957981.0           908821   \n",
       "\n",
       "        Fwd Pkt Len Min  ...  Fwd Seg Size Min  Active Mean  Active Std  \\\n",
       "count           2097149  ...           2097149    2097149.0   2097149.0   \n",
       "unique              188  ...                14      77920.0     56271.0   \n",
       "top                   0  ...                32          0.0         0.0   \n",
       "freq            1882230  ...            906718    2003749.0   2031004.0   \n",
       "\n",
       "        Active Max  Active Min  Idle Mean   Idle Std   Idle Max   Idle Min  \\\n",
       "count    2097149.0   2097149.0  2097149.0  2097149.0  2097149.0  2097149.0   \n",
       "unique     75416.0     47821.0    78250.0    58021.0    57011.0    82137.0   \n",
       "top            0.0         0.0        0.0        0.0        0.0        0.0   \n",
       "freq     2003749.0   2003749.0  1914407.0  2021973.0  1914407.0  1914407.0   \n",
       "\n",
       "          Label  \n",
       "count   2097149  \n",
       "unique        2  \n",
       "top           0  \n",
       "freq    1209156  \n",
       "\n",
       "[4 rows x 80 columns]"
      ]
     },
     "execution_count": 37,
     "metadata": {},
     "output_type": "execute_result"
    }
   ],
   "source": [
    "df_dataset.describe()\n"
   ]
  },
  {
   "cell_type": "code",
   "execution_count": 38,
   "metadata": {},
   "outputs": [
    {
     "name": "stdout",
     "output_type": "stream",
     "text": [
      "<class 'pandas.core.frame.DataFrame'>\n",
      "Index: 2097149 entries, 0 to 2097149\n",
      "Data columns (total 80 columns):\n",
      " #   Column             Dtype \n",
      "---  ------             ----- \n",
      " 0   Dst Port           object\n",
      " 1   Protocol           object\n",
      " 2   Timestamp          object\n",
      " 3   Flow Duration      object\n",
      " 4   Tot Fwd Pkts       object\n",
      " 5   Tot Bwd Pkts       object\n",
      " 6   TotLen Fwd Pkts    object\n",
      " 7   TotLen Bwd Pkts    object\n",
      " 8   Fwd Pkt Len Max    object\n",
      " 9   Fwd Pkt Len Min    object\n",
      " 10  Fwd Pkt Len Mean   object\n",
      " 11  Fwd Pkt Len Std    object\n",
      " 12  Bwd Pkt Len Max    object\n",
      " 13  Bwd Pkt Len Min    object\n",
      " 14  Bwd Pkt Len Mean   object\n",
      " 15  Bwd Pkt Len Std    object\n",
      " 16  Flow Byts/s        object\n",
      " 17  Flow Pkts/s        object\n",
      " 18  Flow IAT Mean      object\n",
      " 19  Flow IAT Std       object\n",
      " 20  Flow IAT Max       object\n",
      " 21  Flow IAT Min       object\n",
      " 22  Fwd IAT Tot        object\n",
      " 23  Fwd IAT Mean       object\n",
      " 24  Fwd IAT Std        object\n",
      " 25  Fwd IAT Max        object\n",
      " 26  Fwd IAT Min        object\n",
      " 27  Bwd IAT Tot        object\n",
      " 28  Bwd IAT Mean       object\n",
      " 29  Bwd IAT Std        object\n",
      " 30  Bwd IAT Max        object\n",
      " 31  Bwd IAT Min        object\n",
      " 32  Fwd PSH Flags      object\n",
      " 33  Bwd PSH Flags      object\n",
      " 34  Fwd URG Flags      object\n",
      " 35  Bwd URG Flags      object\n",
      " 36  Fwd Header Len     object\n",
      " 37  Bwd Header Len     object\n",
      " 38  Fwd Pkts/s         object\n",
      " 39  Bwd Pkts/s         object\n",
      " 40  Pkt Len Min        object\n",
      " 41  Pkt Len Max        object\n",
      " 42  Pkt Len Mean       object\n",
      " 43  Pkt Len Std        object\n",
      " 44  Pkt Len Var        object\n",
      " 45  FIN Flag Cnt       object\n",
      " 46  SYN Flag Cnt       object\n",
      " 47  RST Flag Cnt       object\n",
      " 48  PSH Flag Cnt       object\n",
      " 49  ACK Flag Cnt       object\n",
      " 50  URG Flag Cnt       object\n",
      " 51  CWE Flag Count     object\n",
      " 52  ECE Flag Cnt       object\n",
      " 53  Down/Up Ratio      object\n",
      " 54  Pkt Size Avg       object\n",
      " 55  Fwd Seg Size Avg   object\n",
      " 56  Bwd Seg Size Avg   object\n",
      " 57  Fwd Byts/b Avg     object\n",
      " 58  Fwd Pkts/b Avg     object\n",
      " 59  Fwd Blk Rate Avg   object\n",
      " 60  Bwd Byts/b Avg     object\n",
      " 61  Bwd Pkts/b Avg     object\n",
      " 62  Bwd Blk Rate Avg   object\n",
      " 63  Subflow Fwd Pkts   object\n",
      " 64  Subflow Fwd Byts   object\n",
      " 65  Subflow Bwd Pkts   object\n",
      " 66  Subflow Bwd Byts   object\n",
      " 67  Init Fwd Win Byts  object\n",
      " 68  Init Bwd Win Byts  object\n",
      " 69  Fwd Act Data Pkts  object\n",
      " 70  Fwd Seg Size Min   object\n",
      " 71  Active Mean        object\n",
      " 72  Active Std         object\n",
      " 73  Active Max         object\n",
      " 74  Active Min         object\n",
      " 75  Idle Mean          object\n",
      " 76  Idle Std           object\n",
      " 77  Idle Max           object\n",
      " 78  Idle Min           object\n",
      " 79  Label              object\n",
      "dtypes: object(80)\n",
      "memory usage: 1.3+ GB\n"
     ]
    }
   ],
   "source": [
    "df_dataset.info()"
   ]
  },
  {
   "cell_type": "code",
   "execution_count": null,
   "metadata": {},
   "outputs": [],
   "source": []
  }
 ],
 "metadata": {
  "kernelspec": {
   "display_name": ".venv",
   "language": "python",
   "name": "python3"
  },
  "language_info": {
   "codemirror_mode": {
    "name": "ipython",
    "version": 3
   },
   "file_extension": ".py",
   "mimetype": "text/x-python",
   "name": "python",
   "nbconvert_exporter": "python",
   "pygments_lexer": "ipython3",
   "version": "3.12.0"
  }
 },
 "nbformat": 4,
 "nbformat_minor": 2
}
